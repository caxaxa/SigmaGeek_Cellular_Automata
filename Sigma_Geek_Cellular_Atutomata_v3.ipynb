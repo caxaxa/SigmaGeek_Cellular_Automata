{
  "nbformat": 4,
  "nbformat_minor": 0,
  "metadata": {
    "colab": {
      "provenance": [],
      "authorship_tag": "ABX9TyNnrMQOjJ0bfuC7Hu+HlvRN",
      "include_colab_link": true
    },
    "kernelspec": {
      "name": "python3",
      "display_name": "Python 3"
    },
    "language_info": {
      "name": "python"
    }
  },
  "cells": [
    {
      "cell_type": "markdown",
      "metadata": {
        "id": "view-in-github",
        "colab_type": "text"
      },
      "source": [
        "<a href=\"https://colab.research.google.com/github/caxaxa/SigmaGeek_Cellular_Automata/blob/main/Sigma_Geek_Cellular_Atutomata_v3.ipynb\" target=\"_parent\"><img src=\"https://colab.research.google.com/assets/colab-badge.svg\" alt=\"Open In Colab\"/></a>"
      ]
    },
    {
      "cell_type": "markdown",
      "source": [
        "## Celular Automata Maze"
      ],
      "metadata": {
        "id": "gynDFKJN6MqO"
      }
    },
    {
      "cell_type": "code",
      "source": [
        "import numpy as np\n",
        "import matplotlib.pyplot as plt\n",
        "import matplotlib.animation as animation"
      ],
      "metadata": {
        "id": "DfGPmTSxAWXG"
      },
      "execution_count": 1,
      "outputs": []
    },
    {
      "cell_type": "code",
      "source": [],
      "metadata": {
        "id": "tIke52s46RSk"
      },
      "execution_count": null,
      "outputs": []
    },
    {
      "cell_type": "code",
      "source": [
        "#get the second grid from the game\n",
        "import urllib.request\n",
        "\n",
        "\n",
        "url = \"https://s3.amazonaws.com/appforest_uf/f1678907491882x777874554533324300/input.txt\"\n",
        "response = urllib.request.urlopen(url)\n",
        "grid0 = np.loadtxt(response, delimiter=\" \")"
      ],
      "metadata": {
        "id": "35OdwDBbsjYq"
      },
      "execution_count": 2,
      "outputs": []
    },
    {
      "cell_type": "code",
      "source": [
        "# Define a function to plot a grid\n",
        "\n",
        "\n",
        "def plot_grid(grid):\n",
        "    n_rows, n_cols = grid.shape\n",
        "    fig, ax = plt.subplots(figsize=(9, 9))\n",
        "    ax.imshow(grid, cmap=\"Greens\", extent=[0, n_cols, 0, n_rows], origin=\"lower\") # set cmap to \"Greens\"\n",
        "    ax.set_xticks(range(n_cols+1))\n",
        "    ax.set_yticks(range(n_rows+1))\n",
        "    ax.grid(color=\"gray\", linewidth=0.5)\n",
        "    plt.show()\n",
        "\n",
        "    return fig,ax"
      ],
      "metadata": {
        "id": "sTv2Xs1U-Dcf"
      },
      "execution_count": 3,
      "outputs": []
    },
    {
      "cell_type": "code",
      "source": [
        "plot_grid(grid0)"
      ],
      "metadata": {
        "colab": {
          "base_uri": "https://localhost:8080/",
          "height": 453
        },
        "id": "IZgD5VG6-Em8",
        "outputId": "a4036d6a-4139-4d92-e2b7-8b0ada10a417"
      },
      "execution_count": 4,
      "outputs": [
        {
          "output_type": "display_data",
          "data": {
            "text/plain": [
              "<Figure size 648x648 with 1 Axes>"
            ],
            "image/png": "[encoded data removed]"
          },
          "metadata": {
            "needs_background": "light"
          }
        },
        {
          "output_type": "execute_result",
          "data": {
            "text/plain": [
              "(<Figure size 648x648 with 1 Axes>, <Axes: >)"
            ]
          },
          "metadata": {},
          "execution_count": 4
        }
      ]
    },
    {
      "cell_type": "code",
      "source": [
        "def apply_rule(center, neighbors):\n",
        "    # Count the number of green neighbors\n",
        "    green_neighbors = np.count_nonzero(neighbors)\n",
        "    # Apply the appropriate rule based on the center cell's color and the number of green neighbors\n",
        "    if center == 0:\n",
        "        # White cell rule\n",
        "        if green_neighbors > 1 and green_neighbors < 5:\n",
        "            return 1  # Turn white cell green\n",
        "        else:\n",
        "            return 0  # Keep white cell white\n",
        "    else:\n",
        "        # Green cell rule\n",
        "        if green_neighbors > 3 and green_neighbors < 6:\n",
        "            return 1  # Keep green cell green\n",
        "        else:\n",
        "            return 0  # Turn green cell white\n",
        "    \n",
        "\n",
        "def next_generation(grid):\n",
        "    # Define function to apply the rules to each cell\n",
        "    # Get the dimensions of the input grid\n",
        "    n_rows, n_cols = grid.shape\n",
        "    # Create a new grid of the same dimensions to store the next generation\n",
        "    new_grid = np.zeros_like(grid)\n",
        "    # Loop through each cell in the input grid\n",
        "    for i in range(n_rows):\n",
        "        for j in range(n_cols):\n",
        "            # Get the 8 neighbors of the current cell\n",
        "            neighbors = np.zeros(9, dtype=np.int8)\n",
        "            for k in range(3):\n",
        "                for l in range(3):\n",
        "                    if k == 1 and l == 1:\n",
        "                        continue  # Skip the center cell\n",
        "                    row = i + k - 1\n",
        "                    col = j + l - 1\n",
        "                    if row < 0 or row >= n_rows or col < 0 or col >= n_cols:\n",
        "                        # If a neighbor is out of bounds, treat it as a white cell\n",
        "                        neighbors[k * 3 + l] = 0\n",
        "                    else:\n",
        "                        neighbors[k * 3 + l] = grid[row, col]\n",
        "            # Apply the rules to the current cell and store the result in the new grid\n",
        "            new_grid[i, j] = apply_rule(grid[i, j], neighbors)\n",
        "    # Return the new grid representing the next generation\n",
        "    return new_grid"
      ],
      "metadata": {
        "id": "Meehy0NZNgZk"
      },
      "execution_count": 10,
      "outputs": []
    },
    {
      "cell_type": "code",
      "source": [
        "grid1 = next_generation(grid0)\n",
        "plot_grid(grid1)"
      ],
      "metadata": {
        "colab": {
          "base_uri": "https://localhost:8080/",
          "height": 453
        },
        "id": "-LLfmOwjNgcQ",
        "outputId": "b054a6be-78c9-4bf9-dbac-73bba9ac955c"
      },
      "execution_count": 6,
      "outputs": [
        {
          "output_type": "display_data",
          "data": {
            "text/plain": [
              "<Figure size 648x648 with 1 Axes>"
            ],
            "image/png": "[encoded data removed]"
          },
          "metadata": {
            "needs_background": "light"
          }
        },
        {
          "output_type": "execute_result",
          "data": {
            "text/plain": [
              "(<Figure size 648x648 with 1 Axes>, <Axes: >)"
            ]
          },
          "metadata": {},
          "execution_count": 6
        }
      ]
    },
    {
      "cell_type": "code",
      "source": [
        "from matplotlib import cm\n",
        "\n",
        "def plot_grid(grid, ax):\n",
        "    # Create a color map: 0 as white and 1 as green\n",
        "    cmap = cm.get_cmap('viridis', 2)\n",
        "    cmap.set_under('white')\n",
        "    img = ax.imshow(grid, cmap=cmap, vmin=0.5, vmax=1.5, interpolation='nearest')\n",
        "    return [img]\n",
        "\n",
        "def create_animation(grid0, n, update, plot_grid):\n",
        "    frames = [grid0]\n",
        "\n",
        "    for i in range(n-1):\n",
        "        new_frame = update(frames[-1])\n",
        "        frames.append(new_frame)\n",
        "\n",
        "    def update_plot(frame_number, frames, ax):\n",
        "        ax.clear()\n",
        "        artists = plot_grid(frames[frame_number], ax)\n",
        "        return artists\n",
        "\n",
        "    fig, ax = plt.subplots()\n",
        "    ani = animation.FuncAnimation(fig, update_plot, n, fargs=(frames, ax), interval=200, blit=True)\n",
        "\n",
        "    plt.show()\n",
        "\n",
        "    return ani"
      ],
      "metadata": {
        "id": "HyEbjOm7CC4r"
      },
      "execution_count": 7,
      "outputs": []
    },
    {
      "cell_type": "code",
      "source": [
        "my_animation = create_animation(grid0, 200, next_generation, plot_grid)"
      ],
      "metadata": {
        "colab": {
          "base_uri": "https://localhost:8080/",
          "height": 323
        },
        "id": "VVwSsYE9O3Kr",
        "outputId": "ffb07130-04d5-49da-aa08-33fb6dce2a32"
      },
      "execution_count": 8,
      "outputs": [
        {
          "output_type": "stream",
          "name": "stderr",
          "text": [
            "<ipython-input-7-03382b1b8af5>:5: MatplotlibDeprecationWarning: The get_cmap function was deprecated in Matplotlib 3.7 and will be removed two minor releases later. Use ``matplotlib.colormaps[name]`` or ``matplotlib.colormaps.get_cmap(obj)`` instead.\n",
            "  cmap = cm.get_cmap('viridis', 2)\n"
          ]
        },
        {
          "output_type": "display_data",
          "data": {
            "text/plain": [
              "<Figure size 432x288 with 1 Axes>"
            ],
            "image/png": "[encoded data removed]"
          },
          "metadata": {
            "needs_background": "light"
          }
        }
      ]
    },
    {
      "cell_type": "code",
      "source": [
        "my_animation.save('anime.avi')"
      ],
      "metadata": {
        "colab": {
          "base_uri": "https://localhost:8080/"
        },
        "id": "DBT_ieNhRioy",
        "outputId": "7bb16c7e-f23d-4297-ede1-8a4dada2ab8f"
      },
      "execution_count": null,
      "outputs": [
        {
          "output_type": "stream",
          "name": "stderr",
          "text": [
            "<ipython-input-10-03382b1b8af5>:5: MatplotlibDeprecationWarning: The get_cmap function was deprecated in Matplotlib 3.7 and will be removed two minor releases later. Use ``matplotlib.colormaps[name]`` or ``matplotlib.colormaps.get_cmap(obj)`` instead.\n",
            "  cmap = cm.get_cmap('viridis', 2)\n"
          ]
        }
      ]
    },
    {
      "cell_type": "code",
      "source": [
        "my_animation.save('anime2.mp4')"
      ],
      "metadata": {
        "colab": {
          "base_uri": "https://localhost:8080/"
        },
        "id": "ATTnU0WXU72N",
        "outputId": "20844040-989e-4e85-c2a4-676a58a1b7fa"
      },
      "execution_count": null,
      "outputs": [
        {
          "output_type": "stream",
          "name": "stderr",
          "text": [
            "<ipython-input-10-03382b1b8af5>:5: MatplotlibDeprecationWarning: The get_cmap function was deprecated in Matplotlib 3.7 and will be removed two minor releases later. Use ``matplotlib.colormaps[name]`` or ``matplotlib.colormaps.get_cmap(obj)`` instead.\n",
            "  cmap = cm.get_cmap('viridis', 2)\n"
          ]
        }
      ]
    },
    {
      "cell_type": "code",
      "source": [
        "\n",
        "import numpy as np\n",
        "from collections import deque\n",
        "\n",
        "def bfs_with_cellular_automata(maze, start, target, next_generation):\n",
        "    def neighbors(row, col, rows, cols):\n",
        "        directions = [(1, 0), (-1, 0), (0, 1), (0, -1)]\n",
        "\n",
        "        for dr, dc in directions:\n",
        "            r, c = row + dr, col + dc\n",
        "            if 0 <= r < rows and 0 <= c < cols:\n",
        "                yield r, c\n",
        "\n",
        "    def reconstruct_path(came_from, current):\n",
        "        path = []\n",
        "        while current in came_from:\n",
        "            path.append(current)\n",
        "            current = came_from[current]\n",
        "        return path[::-1]\n",
        "\n",
        "    queue = deque([start])\n",
        "    visited = set([start])\n",
        "    came_from = dict()\n",
        "\n",
        "    while queue:\n",
        "        current = queue.popleft()\n",
        "\n",
        "        if current == target:\n",
        "            return reconstruct_path(came_from, current)\n",
        "\n",
        "        maze = next_generation(maze)\n",
        "\n",
        "        for r, c in neighbors(*current, *maze.shape):\n",
        "            if maze[r, c] != 1 and (r, c) not in visited:\n",
        "                queue.append((r, c))\n",
        "                visited.add((r, c))\n",
        "                came_from[(r, c)] = current\n",
        "\n",
        "    return None\n",
        "\n",
        "\n",
        "\n",
        "start = (0, 0)\n",
        "target = grid0.shape\n",
        "\n",
        "# Make sure to define your next_generation function"
      ],
      "metadata": {
        "id": "J-iUbYyLo5QU"
      },
      "execution_count": 24,
      "outputs": []
    },
    {
      "cell_type": "code",
      "source": [
        "\n",
        "path = bfs_with_cellular_automata(maze, start, target, next_generation)\n",
        "print(\"Path:\", path)"
      ],
      "metadata": {
        "id": "dVgBBuxlx2pi",
        "outputId": "0ae06de4-0bbb-4d3b-99ba-61e1ccef5c90",
        "colab": {
          "base_uri": "https://localhost:8080/"
        }
      },
      "execution_count": 28,
      "outputs": [
        {
          "output_type": "stream",
          "name": "stdout",
          "text": [
            "Path: None\n"
          ]
        }
      ]
    },
    {
      "cell_type": "code",
      "source": [
        "maze = np.array([\n",
        "    [0, 0, 1, 0, 0],\n",
        "    [0, 1, 0, 1, 0],\n",
        "    [0, 1, 0, 1, 0],\n",
        "    [0, 0, 0, 0, 1],\n",
        "    [1, 1, 1, 0, 0]\n",
        "])\n",
        "\n",
        "start = (0, 0)\n",
        "target = (4, 4)"
      ],
      "metadata": {
        "id": "tStDRBvZx2xY"
      },
      "execution_count": 26,
      "outputs": []
    },
    {
      "cell_type": "code",
      "source": [
        "\n",
        "import numpy as np\n",
        "\n",
        "def dfs_with_cellular_automata(maze, start, target, next_generation):\n",
        "    def neighbors(row, col, rows, cols):\n",
        "        directions = [(1, 0), (-1, 0), (0, 1), (0, -1)]\n",
        "\n",
        "        for dr, dc in directions:\n",
        "            r, c = row + dr, col + dc\n",
        "            if 0 <= r < rows and 0 <= c < cols:\n",
        "                yield r, c\n",
        "\n",
        "    def dfs(maze, current, target, visited, path):\n",
        "        if current == target:\n",
        "            return path\n",
        "\n",
        "        visited.add(current)\n",
        "        maze = next_generation(maze)\n",
        "\n",
        "        for r, c in neighbors(*current, *maze.shape):\n",
        "            if maze[r, c] != 1 and (r, c) not in visited:\n",
        "                result = dfs(maze, (r, c), target, visited, path + [(r, c)])\n",
        "                if result is not None:\n",
        "                    return result\n",
        "\n",
        "        visited.remove(current)  # backtrack\n",
        "        return None\n",
        "\n",
        "    visited = set([start])\n",
        "    path = dfs(maze, start, target, visited, [start])\n",
        "\n",
        "    return path\n",
        "\n",
        "# Example maze\n",
        "maze = grid0\n",
        "\n",
        "start = (0, 0)\n",
        "target = tuple(grid0.shape)\n",
        "\n",
        "# Make sure to define your next_generation func\n",
        "\n",
        "path = dfs_with_cellular_automata(maze, start, target, next_generation)\n",
        "print(\"Path:\", path)"
      ],
      "metadata": {
        "id": "t7WSQ8iYx2zT"
      },
      "execution_count": null,
      "outputs": []
    },
    {
      "cell_type": "code",
      "source": [],
      "metadata": {
        "id": "YtjgXgidx22S"
      },
      "execution_count": null,
      "outputs": []
    },
    {
      "cell_type": "code",
      "source": [
        "\n",
        "import numpy as np\n",
        "import pickle\n",
        "\n",
        "def dfs_with_cellular_automata(maze, start, target, next_generation, checkpoint_path=None):\n",
        "    def neighbors(row, col, rows, cols):\n",
        "        directions = [(1, 0), (-1, 0), (0, 1), (0, -1)]\n",
        "\n",
        "        for dr, dc in directions:\n",
        "            r, c = row + dr, col + dc\n",
        "            if 0 <= r < rows and 0 <= c < cols:\n",
        "                yield r, c\n",
        "\n",
        "    def dfs(maze, current, target, visited, path, checkpoint_path):\n",
        "        if current == target:\n",
        "            return path\n",
        "\n",
        "        visited.add(current)\n",
        "        maze = next_generation(maze)\n",
        "\n",
        "        if checkpoint_path is not None:\n",
        "            save_checkpoint(maze, visited, path, checkpoint_path)\n",
        "\n",
        "        for r, c in neighbors(*current, *maze.shape):\n",
        "            if maze[r, c] != 1 and (r, c) not in visited:\n",
        "                result = dfs(maze, (r, c), target, visited, path + [(r, c)], checkpoint_path)\n",
        "                if result is not None:\n",
        "                    return result\n",
        "\n",
        "        visited.remove(current)  # backtrack\n",
        "        return None\n",
        "\n",
        "    def save_checkpoint(maze, visited, path, checkpoint_path):\n",
        "        checkpoint_data = {'maze': maze, 'visited': visited, 'path': path}\n",
        "        with open(checkpoint_path, 'wb') as f:\n",
        "            pickle.dump(checkpoint_data, f)\n",
        "\n",
        "    def load_checkpoint(checkpoint_path):\n",
        "        with open(checkpoint_path, 'rb') as f:\n",
        "            checkpoint_data = pickle.load(f)\n",
        "        return checkpoint_data['maze'], checkpoint_data['visited'], checkpoint_data['path']\n",
        "\n",
        "    if checkpoint_path is not None and os.path.exists(checkpoint_path):\n",
        "        maze, visited, path = load_checkpoint(checkpoint_path)\n",
        "        current = path[-1]\n",
        "    else:\n",
        "        visited = set([start])\n",
        "        path = [start]\n",
        "        current = start\n",
        "\n",
        "    path = dfs(maze, current, target, visited, path, checkpoint_path)\n",
        "\n",
        "    return path\n",
        "\n",
        "# Make sure to define your next_generation function\n",
        "\n",
        "\n",
        "#checkpoint_path = 'checkpoint.pkl'\n",
        "\n",
        "path = dfs_with_cellular_automata(maze, start, target, next_generation, checkpoint_path)\n",
        "print(\"Path:\", path)"
      ],
      "metadata": {
        "id": "bCrx2YtExCw5"
      },
      "execution_count": null,
      "outputs": []
    },
    {
      "cell_type": "code",
      "source": [],
      "metadata": {
        "id": "pIikfJS7P_4L"
      },
      "execution_count": null,
      "outputs": []
    },
    {
      "cell_type": "code",
      "source": [],
      "metadata": {
        "id": "QzKfG63VRH11"
      },
      "execution_count": null,
      "outputs": []
    },
    {
      "cell_type": "code",
      "source": [
        "import numpy as np\n",
        "import pickle\n",
        "import time\n",
        "import os\n",
        "\n",
        "def dfs_with_cellular_automata(maze, start, target, next_generation, checkpoint_path=None, max_duration=1800):\n",
        "    def neighbors(row, col, rows, cols):\n",
        "        directions = [(1, 0), (-1, 0), (0, 1), (0, -1)]\n",
        "\n",
        "        for dr, dc in directions:\n",
        "            r, c = row + dr, col + dc\n",
        "            if 0 <= r < rows and 0 <= c < cols:\n",
        "                yield r, c\n",
        "\n",
        "    def dfs(maze, current, target, visited, path, checkpoint_path, start_time, max_duration):\n",
        "        if current == target:\n",
        "            return path\n",
        "\n",
        "        if time.time() - start_time > max_duration:\n",
        "            return None\n",
        "\n",
        "        visited.add(current)\n",
        "        maze = next_generation(maze)\n",
        "\n",
        "        if checkpoint_path is not None:\n",
        "            save_checkpoint(maze, visited, path, checkpoint_path)\n",
        "\n",
        "        for r, c in neighbors(*current, *maze.shape):\n",
        "            if maze[r, c] != 1 and (r, c) not in visited:\n",
        "                result = dfs(maze, (r, c), target, visited, path + [(r, c)], checkpoint_path, start_time, max_duration)\n",
        "                if result is not None:\n",
        "                    return result\n",
        "\n",
        "        visited.remove(current)  # backtrack\n",
        "        return None\n",
        "\n",
        "    def save_checkpoint(maze, visited, path, checkpoint_path):\n",
        "        checkpoint_data = {'maze': maze, 'visited': visited, 'path': path}\n",
        "        with open(checkpoint_path, 'wb') as f:\n",
        "            pickle.dump(checkpoint_data, f)\n",
        "\n",
        "    def load_checkpoint(checkpoint_path):\n",
        "        with open(checkpoint_path, 'rb') as f:\n",
        "            checkpoint_data = pickle.load(f)\n",
        "        return checkpoint_data['maze'], checkpoint_data['visited'], checkpoint_data['path']\n",
        "\n",
        "    if checkpoint_path is not None and os.path.exists(checkpoint_path):\n",
        "        maze, visited, path = load_checkpoint(checkpoint_path)\n",
        "        current = path[-1]\n",
        "    else:\n",
        "        visited = set([start])\n",
        "        path = [start]\n",
        "        current = start\n",
        "\n",
        "    start_time = time.time()\n",
        "    path = dfs(maze, current, target, visited, path, checkpoint_path, start_time, max_duration)\n",
        "\n",
        "    return path\n",
        "\n",
        "\n",
        "#checkpoint_path = 'checkpoint.pkl'\n",
        "max_duration = 1800  # 30 minutes\n",
        "\n",
        "path = dfs_with_cellular_automata(maze, start, target, next_generation, checkpoint_path, max_duration)\n",
        "print(\"Path:\", path)"
      ],
      "metadata": {
        "id": "x5EPti05RH48"
      },
      "execution_count": null,
      "outputs": []
    },
    {
      "cell_type": "code",
      "source": [],
      "metadata": {
        "id": "dmf-OP1kRH7-"
      },
      "execution_count": null,
      "outputs": []
    },
    {
      "cell_type": "code",
      "source": [],
      "metadata": {
        "id": "F-eWYi1vRH_D"
      },
      "execution_count": null,
      "outputs": []
    },
    {
      "cell_type": "code",
      "source": [],
      "metadata": {
        "id": "NJRjRLFGRIBU"
      },
      "execution_count": null,
      "outputs": []
    },
    {
      "cell_type": "code",
      "source": [],
      "metadata": {
        "id": "o4BT8CNwRIDo"
      },
      "execution_count": null,
      "outputs": []
    },
    {
      "cell_type": "code",
      "source": [
        "def solve_maze(grid0, update):\n",
        "    # Get the dimensions of the grid\n",
        "    n, m = grid0.shape\n",
        "\n",
        "    # Initialize the grid with the given initial configuration\n",
        "    grid = grid0.copy()\n",
        "\n",
        "    # Set the starting position to (0, 0)\n",
        "    x, y = 0, 0\n",
        "\n",
        "    # Set the goal position to (n-1, m-1)\n",
        "    goal_x, goal_y = n-1, m-1\n",
        "\n",
        "    # Create an empty path for the player\n",
        "    path = []\n",
        "\n",
        "    # Create a figure to display the maze\n",
        "    fig, ax = plt.subplots()\n",
        "\n",
        "    # Define a function to update the plot\n",
        "    def plot_grid(grid, ax):\n",
        "        # Create a color map: 0 as white , 1 as green, and 2 as green\n",
        "        cmap = plt.cm.get_cmap('Greens', 3)\n",
        "        cmap.set_under('white')\n",
        "        img = ax.imshow(grid, cmap=cmap, vmin=0.5, vmax=2.5, interpolation='nearest')\n",
        "        # Highlight the current player position in red\n",
        "        ax.scatter(y, x, color='red', s=50)\n",
        "        return [img]\n",
        "\n",
        "    # Create the animation\n",
        "    ani = create_animation(grid, n*m, update, plot_grid)\n",
        "\n",
        "    # Define a function to update the player position and return the path\n",
        "    def update_player(event):\n",
        "        nonlocal x, y\n",
        "\n",
        "        # Get the current player position\n",
        "        current = grid[x, y]\n",
        "\n",
        "        # Move the player based on the arrow keys\n",
        "        if event.key == 'right' and y < m-1 and grid[x, y+1] != 1:\n",
        "            y += 1\n",
        "            direction = 'right'\n",
        "        elif event.key == 'left' and y > 0 and grid[x, y-1] != 1:\n",
        "            y -= 1\n",
        "            direction = 'left'\n",
        "        elif event.key == 'up' and x > 0 and grid[x-1, y] != 1:\n",
        "            x -= 1\n",
        "            direction = 'up'\n",
        "        elif event.key == 'down' and x < n-1 and grid[x+1, y] != 1:\n",
        "            x += 1\n",
        "            direction = 'down'\n",
        "        else:\n",
        "            direction = ''\n",
        "\n",
        "        # If the player lands on a 1, game over\n",
        "        if grid[x, y] == 1:\n",
        "            print(\"Game over!\")\n",
        "            plt.close(fig)\n",
        "            return\n",
        "\n",
        "        # If the player reaches the goal, game won\n",
        "        if x == goal_x and y == goal_y:\n",
        "            print(\"You win!\")\n",
        "            plt.close(fig)\n",
        "            return\n",
        "\n",
        "        # Update the player position in the grid\n",
        "        grid[current] = 0\n",
        "        grid[x, y] = 2\n",
        "\n",
        "        # Update the plot\n",
        "        ax.clear()\n",
        "        plot_grid(grid, ax)\n",
        "\n",
        "        # Redraw the plot\n",
        "        fig.canvas.draw()\n",
        "\n",
        "        # Append the current direction to the path\n",
        "        path.append(direction)\n",
        "\n",
        "        # Print the current player position and path\n",
        "        print(\"Current position: \", x, y)\n",
        "        print(\"Path: \", path)\n",
        "\n",
        "    # Attach the key press event handler to the plot\n",
        "    fig.canvas.mpl_connect('key_press_event', update_player)\n",
        "\n",
        "    # Show the plot and start the animation\n",
        "    plt.show()\n",
        "\n",
        "    # Return the path as a list of strings\n",
        "    return path , ani"
      ],
      "metadata": {
        "id": "osLMumg7o5TM"
      },
      "execution_count": null,
      "outputs": []
    },
    {
      "cell_type": "code",
      "source": [
        "path , ani = solve_maze(grid0, next_generation)"
      ],
      "metadata": {
        "colab": {
          "base_uri": "https://localhost:8080/",
          "height": 576
        },
        "id": "01JS4gyEo5Vm",
        "outputId": "a19569f0-48f5-4431-c671-b4b285343c80"
      },
      "execution_count": null,
      "outputs": [
        {
          "output_type": "stream",
          "name": "stderr",
          "text": [
            "<ipython-input-16-c474f04fd7e8>:23: MatplotlibDeprecationWarning: The get_cmap function was deprecated in Matplotlib 3.7 and will be removed two minor releases later. Use ``matplotlib.colormaps[name]`` or ``matplotlib.colormaps.get_cmap(obj)`` instead.\n",
            "  cmap = plt.cm.get_cmap('Greens', 3)\n"
          ]
        },
        {
          "output_type": "display_data",
          "data": {
            "text/plain": [
              "<Figure size 432x288 with 1 Axes>"
            ],
            "image/png": "[encoded data removed]"
          },
          "metadata": {
            "needs_background": "light"
          }
        },
        {
          "output_type": "display_data",
          "data": {
            "text/plain": [
              "<Figure size 432x288 with 1 Axes>"
            ],
            "image/png": "[encoded data removed]"
          },
          "metadata": {
            "needs_background": "light"
          }
        }
      ]
    },
    {
      "cell_type": "code",
      "source": [
        "path"
      ],
      "metadata": {
        "colab": {
          "base_uri": "https://localhost:8080/"
        },
        "id": "zozNxcsoo5YN",
        "outputId": "32a2396a-0f2f-4026-d225-25725d11f379"
      },
      "execution_count": null,
      "outputs": [
        {
          "output_type": "execute_result",
          "data": {
            "text/plain": [
              "[]"
            ]
          },
          "metadata": {},
          "execution_count": 18
        }
      ]
    },
    {
      "cell_type": "code",
      "source": [
        "ani.save('Trial_2.mp4')"
      ],
      "metadata": {
        "colab": {
          "base_uri": "https://localhost:8080/"
        },
        "id": "d5e32pXjo5a-",
        "outputId": "96fa2b6a-59ee-4012-f67c-aa43495b6e1a"
      },
      "execution_count": null,
      "outputs": [
        {
          "output_type": "stream",
          "name": "stderr",
          "text": [
            "<ipython-input-16-c474f04fd7e8>:23: MatplotlibDeprecationWarning: The get_cmap function was deprecated in Matplotlib 3.7 and will be removed two minor releases later. Use ``matplotlib.colormaps[name]`` or ``matplotlib.colormaps.get_cmap(obj)`` instead.\n",
            "  cmap = plt.cm.get_cmap('Greens', 3)\n"
          ]
        }
      ]
    },
    {
      "cell_type": "code",
      "source": [
        "Print(\"g\")"
      ],
      "metadata": {
        "id": "qLzirzoYo5eL"
      },
      "execution_count": null,
      "outputs": []
    },
    {
      "cell_type": "code",
      "source": [],
      "metadata": {
        "colab": {
          "base_uri": "https://localhost:8080/"
        },
        "id": "uYM-63Y5wraF",
        "outputId": "a31f7614-2491-464c-f5e1-57f642f9c708"
      },
      "execution_count": null,
      "outputs": [
        {
          "output_type": "stream",
          "name": "stdout",
          "text": [
            "Looking in indexes: https://pypi.org/simple, https://us-python.pkg.dev/colab-wheels/public/simple/\n",
            "Collecting qrcode\n",
            "  Downloading qrcode-7.4.2-py3-none-any.whl (46 kB)\n",
            "\u001b[2K     \u001b[90m━━━━━━━━━━━━━━━━━━━━━━━━━━━━━━━━━━━━━━━━\u001b[0m \u001b[32m46.2/46.2 KB\u001b[0m \u001b[31m6.0 MB/s\u001b[0m eta \u001b[36m0:00:00\u001b[0m\n",
            "\u001b[?25hCollecting pypng\n",
            "  Downloading pypng-0.20220715.0-py3-none-any.whl (58 kB)\n",
            "\u001b[2K     \u001b[90m━━━━━━━━━━━━━━━━━━━━━━━━━━━━━━━━━━━━━━━━\u001b[0m \u001b[32m58.1/58.1 KB\u001b[0m \u001b[31m5.9 MB/s\u001b[0m eta \u001b[36m0:00:00\u001b[0m\n",
            "\u001b[?25hRequirement already satisfied: typing-extensions in /usr/local/lib/python3.9/dist-packages (from qrcode) (4.5.0)\n",
            "Installing collected packages: pypng, qrcode\n",
            "Successfully installed pypng-0.20220715.0 qrcode-7.4.2\n"
          ]
        }
      ]
    },
    {
      "cell_type": "code",
      "source": [],
      "metadata": {
        "id": "M8bHIWc0wrcw"
      },
      "execution_count": null,
      "outputs": []
    },
    {
      "cell_type": "code",
      "source": [
        "!pip install qrcode\n",
        "\n",
        "import qrcode\n",
        "\n",
        "# Define the URL to encode in the QR code\n",
        "url = \"whatever\"\n",
        "\n",
        "# Create a QR code instance\n",
        "qr = qrcode.QRCode(version=1, box_size=10, border=4)\n",
        "\n",
        "# Add the URL to the QR code\n",
        "qr.add_data(url)\n",
        "\n",
        "# Compile the QR code\n",
        "qr.make(fit=True)\n",
        "\n",
        "# Generate an image of the QR code\n",
        "img = qr.make_image(fill_color=\"black\", back_color=\"white\")\n",
        "\n",
        "# Save the image as a PNG file\n",
        "img.save(\"qrcode.pdf\")\n",
        "\n",
        "\n",
        "\n"
      ],
      "metadata": {
        "id": "4PUxEJHjwrfU"
      },
      "execution_count": null,
      "outputs": []
    },
    {
      "cell_type": "code",
      "source": [],
      "metadata": {
        "id": "tk9JvETpwriH"
      },
      "execution_count": null,
      "outputs": []
    },
    {
      "cell_type": "code",
      "source": [],
      "metadata": {
        "id": "KFqEzge6wrkt"
      },
      "execution_count": null,
      "outputs": []
    },
    {
      "cell_type": "code",
      "source": [],
      "metadata": {
        "id": "Y3xulQlVwrng"
      },
      "execution_count": null,
      "outputs": []
    }
  ]
}