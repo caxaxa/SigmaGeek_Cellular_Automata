{
  "nbformat": 4,
  "nbformat_minor": 0,
  "metadata": {
    "colab": {
      "provenance": [],
      "authorship_tag": "ABX9TyMbm2gPWMnQKpMLEiKfqrIh",
      "include_colab_link": true
    },
    "kernelspec": {
      "name": "python3",
      "display_name": "Python 3"
    },
    "language_info": {
      "name": "python"
    }
  },
  "cells": [
    {
      "cell_type": "markdown",
      "metadata": {
        "id": "view-in-github",
        "colab_type": "text"
      },
      "source": [
        "<a href=\"https://colab.research.google.com/github/caxaxa/SigmaGeek_Cellular_Automata/blob/main/Sigma_Geek_Cellular_Atutomata.ipynb\" target=\"_parent\"><img src=\"https://colab.research.google.com/assets/colab-badge.svg\" alt=\"Open In Colab\"/></a>"
      ]
    },
    {
      "cell_type": "markdown",
      "source": [
        "## Celular Automata Maze"
      ],
      "metadata": {
        "id": "gynDFKJN6MqO"
      }
    },
    {
      "cell_type": "code",
      "source": [
        "import numpy as np\n",
        "import matplotlib.pyplot as plt\n",
        "import matplotlib.animation as animation\n"
      ],
      "metadata": {
        "id": "DfGPmTSxAWXG"
      },
      "execution_count": 370,
      "outputs": []
    },
    {
      "cell_type": "code",
      "source": [
        "# Define a function to plot a grid\n",
        "def plot_grid(grid):\n",
        "    plt.imshow(grid, cmap=\"binary\", extent=[0, n_cols, 0, n_rows], origin=\"lower\")\n",
        "    plt.xticks(range(n_cols+1))\n",
        "    plt.yticks(range(n_rows+1))\n",
        "    plt.grid(color=\"gray\", linewidth=0.5)\n",
        "    plt.show()"
      ],
      "metadata": {
        "id": "tIke52s46RSk"
      },
      "execution_count": 371,
      "outputs": []
    },
    {
      "cell_type": "code",
      "source": [
        "#get the second grid from the game\n",
        "grid0 =np.array([\n",
        " [0,0,0,0,0,0,0,0],\n",
        " [0,0,0,0,0,0,0,0],\n",
        " [0,0,0,0,0,0,0,0],\n",
        " [0,0,0,0,0,0,0,0],\n",
        " [0,0,0,0,0,0,0,0],\n",
        " [0,0,0,0,0,0,0,0],\n",
        " [0,0,0,0,0,0,0,0]])\n",
        "\n",
        "plot_grid(grid0)"
      ],
      "metadata": {
        "colab": {
          "base_uri": "https://localhost:8080/",
          "height": 269
        },
        "id": "35OdwDBbsjYq",
        "outputId": "efd3c997-6564-4b74-9c87-179c82b5e503"
      },
      "execution_count": 372,
      "outputs": [
        {
          "output_type": "display_data",
          "data": {
            "text/plain": [
              "<Figure size 432x288 with 1 Axes>"
            ],
            "image/png": "[encoded data removed]"
          },
          "metadata": {
            "needs_background": "light"
          }
        }
      ]
    },
    {
      "cell_type": "code",
      "source": [
        "#get the grid from the game\n",
        "grid1 =np.array([\n",
        " [0,0,0,0,0,0,0,0],\n",
        " [0,0,0,0,1,0,0,0],\n",
        " [0,0,1,0,1,1,0,0],\n",
        " [0,1,1,0,0,1,1,0],\n",
        " [0,0,1,0,1,1,0,0],\n",
        " [0,0,0,0,1,0,0,0],\n",
        " [0,0,0,0,0,0,0,0]])\n",
        "\n",
        "plot_grid(grid1)"
      ],
      "metadata": {
        "colab": {
          "base_uri": "https://localhost:8080/",
          "height": 269
        },
        "id": "MIUwVraBEwHJ",
        "outputId": "d5cd61b4-fdb3-4b4c-cd61-88170ec3dfc8"
      },
      "execution_count": 399,
      "outputs": [
        {
          "output_type": "display_data",
          "data": {
            "text/plain": [
              "<Figure size 432x288 with 1 Axes>"
            ],
            "image/png": "[encoded data removed]"
          },
          "metadata": {
            "needs_background": "light"
          }
        }
      ]
    },
    {
      "cell_type": "code",
      "source": [
        "#get the second grid from the game\n",
        "grid2 =np.array([\n",
        " [0,0,0,0,0,0,0,0],\n",
        " [0,0,0,1,0,1,0,0],\n",
        " [0,1,0,0,0,1,1,0],\n",
        " [0,0,0,0,0,1,0,0],\n",
        " [0,1,0,0,0,1,1,0],\n",
        " [0,0,0,1,0,1,0,0],\n",
        " [0,0,0,0,0,0,0,0]])\n",
        "\n",
        "plot_grid(grid2)"
      ],
      "metadata": {
        "colab": {
          "base_uri": "https://localhost:8080/",
          "height": 269
        },
        "id": "TJy1xYGNHD7O",
        "outputId": "5ba60b54-b1a3-4abb-c341-900feb823988"
      },
      "execution_count": 400,
      "outputs": [
        {
          "output_type": "display_data",
          "data": {
            "text/plain": [
              "<Figure size 432x288 with 1 Axes>"
            ],
            "image/png": "[encoded data removed]"
          },
          "metadata": {
            "needs_background": "light"
          }
        }
      ]
    },
    {
      "cell_type": "code",
      "source": [
        "#get the second grid from the game\n",
        "grid3 =np.array([\n",
        " [0,0,0,0,1,0,0,0],\n",
        " [0,0,1,0,1,0,1,0],\n",
        " [0,0,1,0,0,0,0,0],\n",
        " [1,1,1,0,1,1,0,1],\n",
        " [0,0,1,0,0,0,0,0],\n",
        " [0,0,1,0,1,0,1,0],\n",
        " [0,0,0,0,1,0,0,0]])\n",
        "\n",
        "plot_grid(grid3)"
      ],
      "metadata": {
        "colab": {
          "base_uri": "https://localhost:8080/",
          "height": 269
        },
        "id": "h90SVTUSXZ9v",
        "outputId": "d0eda1ef-507c-40a2-e5a5-c86c4e2b9934"
      },
      "execution_count": 401,
      "outputs": [
        {
          "output_type": "display_data",
          "data": {
            "text/plain": [
              "<Figure size 432x288 with 1 Axes>"
            ],
            "image/png": "[encoded data removed]"
          },
          "metadata": {
            "needs_background": "light"
          }
        }
      ]
    },
    {
      "cell_type": "code",
      "source": [
        "#get the second grid from the game\n",
        "grid4 =np.array([\n",
        " [0,0,0,1,0,1,0,0],\n",
        " [0,1,0,0,0,1,0,0],\n",
        " [1,0,0,0,1,0,1,1],\n",
        " [0,1,0,0,0,0,1,0],\n",
        " [1,0,0,0,1,0,1,1],\n",
        " [0,1,0,0,0,1,0,0],\n",
        " [0,0,0,1,0,1,0,0]])\n",
        "\n",
        "plot_grid(grid4)"
      ],
      "metadata": {
        "colab": {
          "base_uri": "https://localhost:8080/",
          "height": 269
        },
        "id": "eWYcik81omoq",
        "outputId": "80c6cd59-6e71-4539-9dd3-dc1ea0a3a0f2"
      },
      "execution_count": 402,
      "outputs": [
        {
          "output_type": "display_data",
          "data": {
            "text/plain": [
              "<Figure size 432x288 with 1 Axes>"
            ],
            "image/png": "[encoded data removed]"
          },
          "metadata": {
            "needs_background": "light"
          }
        }
      ]
    },
    {
      "cell_type": "code",
      "source": [
        "#get the second grid from the game\n",
        "grid5 =np.array([\n",
        " [0,0,1,0,1,0,1,0],\n",
        " [1,0,1,1,0,0,0,1],\n",
        " [0,1,1,0,0,0,0,0],\n",
        " [1,0,0,1,1,0,1,0],\n",
        " [0,1,1,0,0,0,0,0],\n",
        " [1,0,1,1,0,0,0,1],\n",
        " [0,0,1,0,1,0,1,0]])\n",
        "\n",
        "plot_grid(grid5)"
      ],
      "metadata": {
        "colab": {
          "base_uri": "https://localhost:8080/",
          "height": 269
        },
        "id": "7Jw4qxDbqnH6",
        "outputId": "29331a9c-2a06-416c-df84-8de9f94d2221"
      },
      "execution_count": 403,
      "outputs": [
        {
          "output_type": "display_data",
          "data": {
            "text/plain": [
              "<Figure size 432x288 with 1 Axes>"
            ],
            "image/png": "[encoded data removed]"
          },
          "metadata": {
            "needs_background": "light"
          }
        }
      ]
    },
    {
      "cell_type": "code",
      "source": [
        "#get the second grid from the game\n",
        "grid6 =np.array([\n",
        " [0,1,0,0,0,1,0,1],\n",
        " [0,0,1,1,1,1,1,0],\n",
        " [1,1,1,0,1,1,1,1],\n",
        " [0,0,0,0,0,1,0,0],\n",
        " [1,1,1,0,1,1,1,1],\n",
        " [0,0,1,1,1,1,1,0],\n",
        " [0,1,0,0,0,1,0,1]])\n",
        "\n",
        "plot_grid(grid6)"
      ],
      "metadata": {
        "colab": {
          "base_uri": "https://localhost:8080/",
          "height": 269
        },
        "id": "Tdat4kSfsV86",
        "outputId": "1e16c8b0-7302-4386-c3b1-7d2892619f07"
      },
      "execution_count": 404,
      "outputs": [
        {
          "output_type": "display_data",
          "data": {
            "text/plain": [
              "<Figure size 432x288 with 1 Axes>"
            ],
            "image/png": "[encoded data removed]"
          },
          "metadata": {
            "needs_background": "light"
          }
        }
      ]
    },
    {
      "cell_type": "code",
      "source": [
        "#get the second grid from the game\n",
        "grid7 =np.array([\n",
        " [0,0,1,1,0,0,0,0],\n",
        " [1,0,1,1,1,1,1,0],\n",
        " [0,0,0,0,1,1,1,0],\n",
        " [0,0,0,0,0,1,0,0],\n",
        " [0,0,0,0,1,1,1,0],\n",
        " [1,0,1,1,1,1,1,1],\n",
        " [0,0,1,1,0,0,1,0]])\n",
        "\n",
        "plot_grid(grid7)"
      ],
      "metadata": {
        "colab": {
          "base_uri": "https://localhost:8080/",
          "height": 269
        },
        "id": "8SMYMMe_tuTb",
        "outputId": "723ef229-4ef8-42a7-f98a-70d1a0c52462"
      },
      "execution_count": 405,
      "outputs": [
        {
          "output_type": "display_data",
          "data": {
            "text/plain": [
              "<Figure size 432x288 with 1 Axes>"
            ],
            "image/png": "[encoded data removed]"
          },
          "metadata": {
            "needs_background": "light"
          }
        }
      ]
    },
    {
      "cell_type": "code",
      "source": [
        "#get the second grid from the game\n",
        "grid8 =np.array([\n",
        " [0,1,0,1,0,1,1,0],\n",
        " [0,1,0,1,1,1,0,1],\n",
        " [0,1,1,0,1,1,1,1],\n",
        " [0,0,0,1,0,1,0,1],\n",
        " [0,1,1,0,1,1,1,1],\n",
        " [0,1,0,1,1,1,1,0],\n",
        " [0,1,0,1,0,0,0,0]])\n",
        "\n",
        "plot_grid(grid8)"
      ],
      "metadata": {
        "colab": {
          "base_uri": "https://localhost:8080/",
          "height": 269
        },
        "id": "16gDD3nQvYJi",
        "outputId": "cfc5d0fc-8524-4369-e865-eeba2af223e0"
      },
      "execution_count": 406,
      "outputs": [
        {
          "output_type": "display_data",
          "data": {
            "text/plain": [
              "<Figure size 432x288 with 1 Axes>"
            ],
            "image/png": "[encoded data removed]"
          },
          "metadata": {
            "needs_background": "light"
          }
        }
      ]
    },
    {
      "cell_type": "code",
      "source": [
        "#get the second grid from the game\n",
        "grid9 =np.array([\n",
        " [1,0,0,0,0,0,0,1],\n",
        " [1,0,0,1,1,1,0,0],\n",
        " [1,0,1,0,1,1,1,0],\n",
        " [1,0,0,1,0,1,0,1],\n",
        " [1,0,1,0,1,1,1,0],\n",
        " [1,0,0,1,1,1,1,1],\n",
        " [1,0,0,0,0,1,1,0]])\n",
        "\n",
        "plot_grid(grid9)"
      ],
      "metadata": {
        "colab": {
          "base_uri": "https://localhost:8080/",
          "height": 269
        },
        "id": "9koi9BW7wh1x",
        "outputId": "a00aa551-c8fd-40e7-98f8-2c142fb4fbbb"
      },
      "execution_count": 408,
      "outputs": [
        {
          "output_type": "display_data",
          "data": {
            "text/plain": [
              "<Figure size 432x288 with 1 Axes>"
            ],
            "image/png": "[encoded data removed]"
          },
          "metadata": {
            "needs_background": "light"
          }
        }
      ]
    },
    {
      "cell_type": "code",
      "source": [
        "def infer_rules(grids):\n",
        "    if len(grids) < 2:\n",
        "        raise ValueError(\"At least two grids are required to infer rules.\")\n",
        "\n",
        "    transitions = {}\n",
        "    for i in range(len(grids) - 1):\n",
        "        grid1 = grids[i]\n",
        "        grid2 = grids[i + 1]\n",
        "\n",
        "        for y in range(1, grid1.shape[0] - 1):\n",
        "            for x in range(1, grid1.shape[1] - 1):\n",
        "                neighborhood = tuple(grid1[y - 1:y + 2, x - 1:x + 2].flatten())\n",
        "                new_state = grid2[y, x]\n",
        "\n",
        "                if neighborhood in transitions:\n",
        "                    if new_state != transitions[neighborhood]:\n",
        "                        print(f\"Warning: Conflicting rules for neighborhood {neighborhood}\")\n",
        "                else:\n",
        "                    transitions[neighborhood] = new_state\n",
        "\n",
        "    return transitions"
      ],
      "metadata": {
        "id": "gHXQ57L1QIPL"
      },
      "execution_count": 409,
      "outputs": []
    },
    {
      "cell_type": "code",
      "source": [
        "grids = np.array([grid1,grid2,grid3,grid4,grid5,grid6,grid7,grid8,grid9])\n",
        "\n",
        "rules = infer_rules(grids)\n",
        "\n",
        "print(\"Inferred rules:\")\n",
        "for neighborhood, new_state in rules.items():\n",
        "    print(f\"{neighborhood} -> {new_state}\")"
      ],
      "metadata": {
        "colab": {
          "base_uri": "https://localhost:8080/"
        },
        "id": "SJ9_UkndSNc8",
        "outputId": "64d69d7b-26e6-4d31-c693-7c2183d6c108"
      },
      "execution_count": 410,
      "outputs": [
        {
          "output_type": "stream",
          "name": "stdout",
          "text": [
            "Inferred rules:\n",
            "(0, 0, 0, 0, 0, 0, 0, 0, 1) -> 0\n",
            "(0, 0, 0, 0, 0, 0, 0, 1, 0) -> 0\n",
            "(0, 0, 0, 0, 0, 1, 1, 0, 1) -> 1\n",
            "(0, 0, 0, 0, 1, 0, 0, 1, 1) -> 0\n",
            "(0, 0, 0, 1, 0, 0, 1, 1, 0) -> 1\n",
            "(0, 0, 0, 0, 0, 0, 1, 0, 0) -> 0\n",
            "(0, 0, 0, 0, 0, 1, 0, 1, 1) -> 1\n",
            "(0, 0, 0, 0, 1, 0, 1, 1, 0) -> 0\n",
            "(0, 0, 1, 1, 0, 1, 1, 0, 0) -> 0\n",
            "(0, 1, 0, 0, 1, 1, 0, 0, 1) -> 0\n",
            "(1, 0, 0, 1, 1, 0, 0, 1, 1) -> 1\n",
            "(0, 0, 1, 0, 1, 1, 0, 0, 1) -> 0\n",
            "(0, 1, 0, 1, 1, 0, 0, 1, 0) -> 0\n",
            "(1, 0, 1, 1, 0, 0, 1, 0, 1) -> 0\n",
            "(0, 1, 1, 0, 0, 1, 0, 1, 1) -> 0\n",
            "(1, 1, 0, 0, 1, 1, 1, 1, 0) -> 1\n",
            "(1, 0, 0, 1, 1, 0, 1, 0, 0) -> 0\n",
            "(0, 1, 1, 0, 0, 1, 0, 0, 0) -> 1\n",
            "(1, 1, 0, 0, 1, 0, 0, 0, 0) -> 0\n",
            "(1, 0, 0, 1, 0, 1, 0, 0, 1) -> 0\n",
            "(0, 0, 1, 0, 1, 1, 0, 1, 0) -> 0\n",
            "(0, 1, 1, 1, 1, 0, 1, 0, 0) -> 1\n",
            "(1, 1, 0, 1, 0, 0, 0, 0, 0) -> 1\n",
            "(0, 0, 1, 0, 0, 0, 0, 0, 0) -> 0\n",
            "(0, 1, 0, 0, 0, 0, 0, 0, 0) -> 0\n",
            "(1, 0, 1, 0, 0, 1, 0, 0, 0) -> 1\n",
            "(0, 1, 1, 0, 1, 0, 0, 0, 0) -> 0\n",
            "(1, 0, 0, 0, 0, 0, 0, 0, 0) -> 0\n",
            "(0, 0, 0, 0, 0, 1, 1, 0, 0) -> 1\n",
            "(0, 0, 0, 0, 1, 0, 0, 0, 0) -> 0\n",
            "(0, 0, 0, 1, 0, 1, 0, 0, 1) -> 1\n",
            "(0, 0, 1, 1, 0, 0, 0, 0, 0) -> 1\n",
            "(1, 0, 1, 0, 0, 1, 0, 0, 1) -> 0\n",
            "(0, 1, 0, 0, 1, 1, 0, 1, 0) -> 0\n",
            "(0, 1, 0, 0, 0, 0, 0, 1, 0) -> 1\n",
            "(1, 0, 0, 0, 0, 0, 1, 0, 0) -> 1\n",
            "(0, 0, 0, 0, 0, 0, 0, 0, 0) -> 0\n",
            "(0, 0, 1, 0, 0, 1, 0, 0, 1) -> 1\n",
            "(0, 1, 1, 0, 1, 0, 0, 1, 1) -> 1\n",
            "(1, 1, 0, 1, 0, 0, 1, 1, 0) -> 0\n",
            "(0, 0, 0, 1, 0, 0, 0, 0, 1) -> 1\n",
            "(0, 0, 1, 0, 0, 1, 1, 0, 1) -> 0\n",
            "(1, 0, 0, 0, 0, 1, 0, 0, 0) -> 1\n",
            "(0, 0, 1, 1, 0, 1, 0, 0, 0) -> 1\n",
            "(0, 0, 0, 0, 0, 1, 0, 0, 1) -> 1\n",
            "(0, 0, 0, 0, 1, 0, 0, 1, 0) -> 0\n",
            "(0, 1, 0, 0, 1, 0, 0, 0, 0) -> 0\n",
            "(1, 0, 0, 1, 0, 1, 0, 0, 0) -> 1\n",
            "(0, 0, 1, 0, 0, 1, 1, 1, 1) -> 0\n",
            "(0, 1, 0, 0, 1, 0, 1, 1, 0) -> 0\n",
            "(0, 1, 0, 0, 0, 0, 0, 1, 1) -> 1\n",
            "(1, 0, 1, 0, 0, 0, 1, 1, 0) -> 0\n",
            "(0, 1, 0, 0, 0, 0, 1, 0, 1) -> 1\n",
            "(0, 0, 1, 1, 1, 1, 0, 0, 1) -> 1\n",
            "(1, 0, 0, 1, 0, 1, 1, 0, 0) -> 0\n",
            "(0, 0, 0, 0, 1, 1, 0, 0, 0) -> 0\n",
            "(0, 0, 0, 1, 1, 0, 0, 0, 0) -> 0\n",
            "(0, 0, 0, 1, 0, 1, 0, 0, 0) -> 1\n",
            "(1, 1, 1, 0, 0, 1, 0, 0, 1) -> 0\n",
            "(1, 1, 0, 0, 1, 0, 0, 1, 0) -> 0\n",
            "(0, 1, 1, 0, 0, 0, 0, 1, 0) -> 1\n",
            "(1, 1, 0, 0, 0, 0, 1, 0, 1) -> 0\n",
            "(1, 0, 1, 0, 0, 0, 0, 1, 0) -> 1\n",
            "(0, 0, 1, 0, 0, 1, 0, 0, 0) -> 1\n",
            "(0, 0, 0, 1, 0, 1, 1, 0, 0) -> 1\n",
            "(0, 0, 0, 0, 1, 0, 1, 0, 0) -> 0\n",
            "(0, 1, 0, 0, 0, 0, 0, 0, 1) -> 1\n",
            "(1, 0, 1, 0, 0, 1, 0, 1, 0) -> 0\n",
            "(0, 1, 0, 0, 1, 0, 1, 0, 1) -> 0\n",
            "(1, 0, 0, 1, 0, 0, 0, 1, 1) -> 0\n",
            "(0, 1, 0, 1, 0, 0, 0, 1, 0) -> 1\n",
            "(0, 0, 0, 0, 0, 1, 0, 0, 0) -> 0\n",
            "(0, 0, 1, 0, 1, 0, 0, 0, 0) -> 0\n",
            "(0, 1, 0, 1, 0, 1, 0, 0, 1) -> 0\n",
            "(1, 0, 0, 0, 1, 1, 0, 1, 0) -> 0\n",
            "(1, 0, 0, 0, 1, 0, 1, 0, 0) -> 0\n",
            "(0, 0, 0, 1, 0, 0, 0, 0, 0) -> 0\n",
            "(0, 0, 1, 0, 0, 0, 0, 0, 1) -> 1\n",
            "(1, 0, 1, 0, 0, 1, 1, 0, 1) -> 0\n",
            "(0, 0, 0, 0, 1, 0, 0, 0, 1) -> 0\n",
            "(0, 0, 1, 1, 0, 1, 0, 1, 0) -> 0\n",
            "(0, 1, 0, 0, 1, 1, 1, 0, 0) -> 0\n",
            "(1, 0, 0, 0, 1, 0, 0, 0, 0) -> 0\n",
            "(0, 0, 1, 0, 0, 0, 0, 1, 0) -> 1\n",
            "(0, 1, 0, 0, 0, 1, 1, 0, 1) -> 0\n",
            "(1, 0, 1, 0, 1, 0, 0, 1, 0) -> 0\n",
            "(0, 1, 1, 1, 0, 0, 1, 0, 0) -> 0\n",
            "(0, 0, 1, 1, 0, 1, 0, 1, 1) -> 0\n",
            "(0, 1, 0, 0, 1, 1, 1, 1, 0) -> 1\n",
            "(1, 0, 1, 1, 1, 0, 1, 0, 0) -> 1\n",
            "(0, 1, 0, 1, 0, 0, 0, 0, 0) -> 1\n",
            "(1, 0, 1, 0, 0, 0, 0, 0, 0) -> 1\n",
            "(0, 1, 0, 0, 0, 1, 0, 0, 0) -> 1\n",
            "(1, 0, 1, 0, 1, 1, 1, 0, 0) -> 1\n",
            "(0, 1, 1, 1, 1, 0, 0, 0, 1) -> 1\n",
            "(1, 1, 0, 1, 0, 0, 0, 1, 1) -> 0\n",
            "(1, 0, 0, 0, 0, 0, 1, 1, 0) -> 1\n",
            "(0, 0, 0, 0, 0, 0, 1, 0, 1) -> 1\n",
            "(0, 1, 1, 1, 0, 0, 0, 1, 1) -> 0\n",
            "(1, 1, 0, 0, 0, 1, 1, 1, 0) -> 0\n",
            "(1, 0, 0, 0, 1, 1, 1, 0, 0) -> 0\n",
            "(1, 0, 0, 0, 1, 1, 1, 0, 1) -> 1\n",
            "(0, 0, 1, 1, 1, 0, 0, 1, 1) -> 1\n",
            "(0, 1, 1, 1, 0, 0, 1, 1, 0) -> 0\n",
            "(1, 1, 0, 0, 0, 0, 1, 0, 0) -> 1\n",
            "(0, 1, 1, 1, 0, 1, 0, 0, 1) -> 0\n",
            "(1, 1, 0, 0, 1, 1, 0, 1, 0) -> 1\n",
            "(1, 0, 0, 1, 1, 0, 1, 0, 1) -> 1\n",
            "(0, 0, 0, 1, 0, 0, 0, 1, 0) -> 1\n",
            "(0, 0, 0, 0, 0, 1, 0, 1, 0) -> 1\n",
            "(0, 1, 0, 0, 0, 1, 1, 1, 1) -> 0\n",
            "(1, 0, 0, 0, 1, 1, 1, 1, 0) -> 1\n",
            "(0, 0, 0, 1, 1, 1, 1, 0, 1) -> 1\n",
            "(0, 0, 1, 1, 1, 1, 0, 1, 1) -> 1\n",
            "(0, 1, 0, 1, 1, 1, 1, 1, 1) -> 1\n",
            "(1, 0, 1, 1, 1, 0, 1, 1, 1) -> 1\n",
            "(0, 0, 1, 1, 1, 1, 0, 0, 0) -> 0\n",
            "(0, 1, 1, 1, 1, 0, 0, 0, 0) -> 0\n",
            "(1, 1, 1, 1, 0, 1, 0, 0, 0) -> 0\n",
            "(1, 1, 1, 0, 1, 1, 0, 0, 1) -> 1\n",
            "(1, 1, 1, 1, 1, 1, 0, 1, 0) -> 1\n",
            "(1, 1, 0, 1, 1, 1, 1, 0, 0) -> 1\n",
            "(1, 1, 1, 0, 0, 0, 1, 1, 1) -> 0\n",
            "(1, 1, 0, 0, 0, 0, 1, 1, 0) -> 0\n",
            "(1, 0, 1, 0, 0, 0, 1, 0, 1) -> 0\n",
            "(1, 1, 1, 0, 1, 0, 1, 1, 1) -> 1\n",
            "(1, 1, 1, 1, 0, 0, 1, 1, 1) -> 0\n",
            "(0, 0, 0, 1, 1, 1, 0, 0, 1) -> 0\n",
            "(0, 0, 0, 1, 1, 0, 0, 1, 1) -> 0\n",
            "(0, 0, 0, 1, 0, 1, 1, 1, 1) -> 0\n",
            "(0, 0, 1, 0, 1, 1, 1, 1, 1) -> 1\n",
            "(1, 0, 0, 1, 1, 1, 1, 1, 0) -> 1\n",
            "(1, 1, 1, 0, 0, 1, 0, 1, 0) -> 0\n",
            "(1, 1, 0, 0, 1, 1, 1, 0, 0) -> 1\n",
            "(1, 0, 1, 1, 1, 1, 0, 0, 0) -> 1\n",
            "(0, 1, 1, 1, 1, 1, 0, 0, 1) -> 1\n",
            "(1, 1, 1, 1, 1, 0, 1, 0, 1) -> 1\n",
            "(0, 1, 1, 0, 1, 1, 0, 0, 0) -> 0\n",
            "(1, 1, 0, 1, 1, 1, 0, 0, 1) -> 1\n",
            "(1, 0, 0, 1, 1, 1, 0, 1, 1) -> 1\n",
            "(0, 0, 0, 1, 1, 1, 1, 1, 1) -> 1\n",
            "(0, 0, 0, 1, 1, 0, 1, 1, 0) -> 0\n",
            "(0, 1, 1, 0, 0, 0, 0, 0, 0) -> 1\n",
            "(1, 1, 1, 0, 0, 1, 0, 0, 0) -> 0\n",
            "(1, 1, 0, 1, 1, 0, 1, 0, 0) -> 1\n",
            "(0, 0, 0, 0, 0, 0, 0, 1, 1) -> 1\n",
            "(0, 0, 0, 0, 0, 1, 1, 1, 1) -> 0\n",
            "(1, 0, 0, 1, 1, 0, 1, 1, 1) -> 1\n",
            "(0, 0, 0, 0, 1, 1, 0, 1, 1) -> 0\n",
            "(0, 0, 1, 1, 1, 1, 1, 1, 0) -> 1\n",
            "(0, 1, 1, 1, 1, 1, 1, 0, 0) -> 1\n",
            "(1, 1, 1, 1, 1, 1, 0, 0, 1) -> 1\n",
            "(1, 1, 0, 1, 1, 1, 0, 1, 0) -> 1\n",
            "(0, 1, 0, 0, 1, 0, 0, 1, 1) -> 0\n",
            "(1, 0, 1, 1, 0, 1, 1, 1, 0) -> 0\n",
            "(0, 1, 0, 0, 1, 1, 1, 0, 1) -> 1\n",
            "(1, 0, 1, 1, 1, 1, 0, 1, 1) -> 1\n",
            "(0, 1, 1, 1, 1, 0, 1, 1, 1) -> 1\n",
            "(1, 1, 0, 1, 0, 1, 1, 1, 1) -> 0\n",
            "(0, 1, 0, 0, 1, 1, 0, 0, 0) -> 0\n",
            "(1, 0, 1, 1, 1, 0, 0, 0, 1) -> 1\n",
            "(0, 1, 1, 1, 0, 1, 0, 1, 0) -> 0\n",
            "(1, 1, 1, 0, 1, 1, 1, 0, 1) -> 1\n",
            "(1, 0, 1, 1, 1, 1, 1, 0, 1) -> 1\n",
            "(0, 1, 1, 0, 0, 0, 0, 1, 1) -> 0\n",
            "(1, 0, 1, 0, 1, 0, 1, 0, 1) -> 1\n",
            "(0, 1, 1, 1, 0, 1, 0, 1, 1) -> 0\n",
            "(1, 1, 1, 1, 0, 1, 1, 1, 1) -> 0\n",
            "(0, 0, 0, 0, 1, 1, 0, 1, 0) -> 0\n",
            "(0, 0, 1, 1, 1, 0, 1, 0, 1) -> 1\n",
            "(0, 1, 0, 1, 0, 1, 0, 1, 1) -> 0\n",
            "(1, 0, 1, 0, 1, 1, 1, 1, 1) -> 1\n",
            "(1, 0, 1, 1, 1, 1, 1, 1, 0) -> 1\n",
            "(0, 1, 1, 0, 1, 0, 0, 1, 0) -> 0\n",
            "(1, 1, 0, 1, 0, 1, 1, 0, 1) -> 0\n",
            "(1, 0, 1, 0, 1, 1, 0, 1, 0) -> 1\n",
            "(1, 1, 1, 1, 1, 1, 0, 0, 0) -> 1\n",
            "(1, 1, 1, 1, 1, 0, 0, 0, 0) -> 1\n"
          ]
        }
      ]
    },
    {
      "cell_type": "code",
      "source": [
        "def predict_next_grid(grid, rules):\n",
        "    next_grid = np.zeros_like(grid)\n",
        "    \n",
        "    for y in range(1, grid.shape[0] - 1):\n",
        "        for x in range(1, grid.shape[1] - 1):\n",
        "            neighborhood = tuple(grid[y - 1:y + 2, x - 1:x + 2].flatten())\n",
        "            \n",
        "            if neighborhood in rules:\n",
        "                next_grid[y, x] = rules[neighborhood]\n",
        "            else:\n",
        "                # If the neighborhood is not in the rules, keep the current state\n",
        "                next_grid[y, x] = grid[y, x]\n",
        "\n",
        "    return next_grid\n"
      ],
      "metadata": {
        "id": "QAHR__OVX7Fr"
      },
      "execution_count": 411,
      "outputs": []
    },
    {
      "cell_type": "code",
      "source": [
        "# Predict the next grid\n",
        "plot_grid(grid9)\n",
        "\n",
        "grid10 = predict_next_grid(grid9, rules)\n",
        "\n",
        "# Print the predicted grid\n",
        "\n",
        "plot_grid(grid10)"
      ],
      "metadata": {
        "colab": {
          "base_uri": "https://localhost:8080/",
          "height": 521
        },
        "id": "IfiKgBdtDYd-",
        "outputId": "d864fff1-d2b3-4ba6-99ab-69ac9ff3a820"
      },
      "execution_count": 412,
      "outputs": [
        {
          "output_type": "display_data",
          "data": {
            "text/plain": [
              "<Figure size 432x288 with 1 Axes>"
            ],
            "image/png": "[encoded data removed]"
          },
          "metadata": {
            "needs_background": "light"
          }
        },
        {
          "output_type": "display_data",
          "data": {
            "text/plain": [
              "<Figure size 432x288 with 1 Axes>"
            ],
            "image/png": "[encoded data removed]"
          },
          "metadata": {
            "needs_background": "light"
          }
        }
      ]
    },
    {
      "cell_type": "code",
      "source": [],
      "metadata": {
        "id": "tvPOkBt1sRvy"
      },
      "execution_count": 398,
      "outputs": []
    },
    {
      "cell_type": "code",
      "source": [],
      "metadata": {
        "id": "l4GCLItcsRyf"
      },
      "execution_count": 384,
      "outputs": []
    },
    {
      "cell_type": "code",
      "source": [],
      "metadata": {
        "id": "Euy5mldgsR1Z"
      },
      "execution_count": null,
      "outputs": []
    },
    {
      "cell_type": "code",
      "source": [],
      "metadata": {
        "id": "__HYQIP0sR4A"
      },
      "execution_count": null,
      "outputs": []
    },
    {
      "cell_type": "code",
      "source": [],
      "metadata": {
        "id": "z955-4aWsR6p"
      },
      "execution_count": null,
      "outputs": []
    },
    {
      "cell_type": "code",
      "source": [],
      "metadata": {
        "id": "q53acpOrsR9X"
      },
      "execution_count": null,
      "outputs": []
    },
    {
      "cell_type": "code",
      "source": [],
      "metadata": {
        "id": "R60cVG7qsSAQ"
      },
      "execution_count": null,
      "outputs": []
    },
    {
      "cell_type": "code",
      "source": [],
      "metadata": {
        "id": "J4saaDrnsSC3"
      },
      "execution_count": null,
      "outputs": []
    },
    {
      "cell_type": "code",
      "source": [
        "plot_grid(grid2)"
      ],
      "metadata": {
        "colab": {
          "base_uri": "https://localhost:8080/",
          "height": 269
        },
        "id": "WbiWS6kXFZIn",
        "outputId": "2b8aa4f6-1054-44af-c19d-11c304948eb9"
      },
      "execution_count": 294,
      "outputs": [
        {
          "output_type": "display_data",
          "data": {
            "text/plain": [
              "<Figure size 432x288 with 1 Axes>"
            ],
            "image/png": "[encoded data removed]"
          },
          "metadata": {
            "needs_background": "light"
          }
        }
      ]
    },
    {
      "cell_type": "code",
      "source": [
        "def update_rule(rule, grid1, grid2):\n",
        "    \"\"\"This function takes in a decimal rule, two 2D sequential grids, and updates the rule to a better one.\"\"\"\n",
        "    \n",
        "    # Find the dimensions of the grids\n",
        "    rows = len(grid1)\n",
        "    cols = len(grid1[0])\n",
        "    \n",
        "    # Initialize the score for the current rule\n",
        "    score_current = 0\n",
        "    \n",
        "    # Iterate over each cell in the first grid\n",
        "    for row in range(rows):\n",
        "        for col in range(cols):\n",
        "            \n",
        "            # Get the state of the center cell in the neighborhood\n",
        "            center_state = grid1[row][col]\n",
        "            \n",
        "            # Get the states of the neighbors in the neighborhood\n",
        "            neighbor_states = []\n",
        "            for i in range(-1, 2):\n",
        "                for j in range(-1, 2):\n",
        "                    if i == 0 and j == 0:\n",
        "                        continue\n",
        "                    neighbor_row = row + i\n",
        "                    neighbor_col = col + j\n",
        "                    if neighbor_row < 0 or neighbor_row >= rows or neighbor_col < 0 or neighbor_col >= cols:\n",
        "                        neighbor_state = 0  # Assume that cells outside the grid are always 0\n",
        "                    else:\n",
        "                        neighbor_state = grid1[neighbor_row][neighbor_col]\n",
        "                    neighbor_states.append(neighbor_state)\n",
        "            \n",
        "            # Convert the neighborhood pattern to a binary string\n",
        "            pattern_str = ''.join(str(s) for s in neighbor_states)\n",
        "            \n",
        "            # Use the current rule to determine the next state of the center cell\n",
        "            rule_bin = bin(rule)[2:].zfill(8)\n",
        "            index = int(pattern_str, 2)\n",
        "            if index >= len(rule_bin):\n",
        "                next_state = 0  # Assume that patterns not in the rule lead to a state of 0\n",
        "            else:\n",
        "                next_state = int(rule_bin[index])\n",
        "            \n",
        "            # Update the score for the current rule based on the difference between the predicted next state and the actual next state\n",
        "            score_current += (next_state - grid2[row][col])**2\n",
        "    \n",
        "    # Initialize the score for the new rule\n",
        "    score_new = score_current\n",
        "    \n",
        "    # Iterate over each possible replacement rule\n",
        "    for i in range(256):\n",
        "        \n",
        "        # Use the replacement rule to determine the next state of the center cell for each cell in the first grid\n",
        "        rule_new = i\n",
        "        score = 0\n",
        "        for row in range(rows):\n",
        "            for col in range(cols):\n",
        "                \n",
        "                # Get the state of the center cell in the neighborhood\n",
        "                center_state = grid1[row][col]\n",
        "                \n",
        "                # Get the states of the neighbors in the neighborhood\n",
        "                neighbor_states = []\n",
        "                for i in range(-1, 2):\n",
        "                    for j in range(-1, 2):\n",
        "                        if i == 0 and j == 0:\n",
        "                            continue\n",
        "                        neighbor_row = row + i\n",
        "                        neighbor_col = col + j\n",
        "                        if neighbor_row < 0 or neighbor_row >= rows or neighbor_col < 0 or neighbor_col >= cols:\n",
        "                            neighbor_state = 0  # Assume that cells outside the grid are always 0\n",
        "                        else:\n",
        "                            neighbor_state = grid1[neighbor_row][neighbor_col]\n",
        "                        neighbor_states.append(neighbor_state)\n",
        "                \n",
        "                # Convert the neighborhood pattern to a binary string\n",
        "                pattern_str = ''.join(str(s) for s in neighbor_states)\n",
        "                \n",
        "                # Use the replacement rule to determine the next state of the center cell\n",
        "                rule_bin = bin(rule_new)[2:].zfill(8)\n",
        "                index = int(pattern_str, 2)\n",
        "                if index >= len(rule_bin):\n",
        "                    next_state = 0\n",
        "                else:\n",
        "                    next_state = int(rule_bin[index])\n",
        "                \n",
        "                # Update the score for the new rule based on the difference between the predicted next state and the actual next state\n",
        "                score += (next_state - grid2[row][col])**2\n",
        "        \n",
        "        # Update the score for the new rule\n",
        "        if score < score_new:\n",
        "            rule = rule_new\n",
        "            score_new = score\n",
        "    \n",
        "    # Return the updated rule\n",
        "    return rule"
      ],
      "metadata": {
        "id": "XbklN6cOFZ5W"
      },
      "execution_count": 230,
      "outputs": []
    },
    {
      "cell_type": "code",
      "source": [
        "update_rule(43, grid2, grid3)"
      ],
      "metadata": {
        "colab": {
          "base_uri": "https://localhost:8080/"
        },
        "id": "z5wGV7FlFbjn",
        "outputId": "5a75a2c2-e564-405e-885c-205e2aa8e42f"
      },
      "execution_count": 234,
      "outputs": [
        {
          "output_type": "execute_result",
          "data": {
            "text/plain": [
              "0"
            ]
          },
          "metadata": {},
          "execution_count": 234
        }
      ]
    },
    {
      "cell_type": "code",
      "source": [
        "def find_rule(grid1, grid2, grid3):\n",
        "    \"\"\"\n",
        "    This function takes in 3 sequential 2D grids and returns the corresponding cellular automaton rule.\n",
        "    \"\"\"\n",
        "    \n",
        "    # Find the dimensions of the grids\n",
        "    rows = len(grid1)\n",
        "    cols = len(grid1[0])\n",
        "    \n",
        "    # Initialize the score for the best rule\n",
        "    score_best = np.inf\n",
        "    \n",
        "    # Iterate over each possible rule\n",
        "    for rule in range(256):\n",
        "        \n",
        "        # Initialize the score for the current rule\n",
        "        score_current = 0\n",
        "        \n",
        "        # Iterate over each cell in the second grid\n",
        "        for row in range(rows):\n",
        "            for col in range(cols):\n",
        "                \n",
        "                # Get the state of the center cell in the neighborhood\n",
        "                center_state = grid2[row][col]\n",
        "                \n",
        "                # Get the states of the neighbors in the neighborhood\n",
        "                neighbor_states = []\n",
        "                for i in range(-1, 2):\n",
        "                    for j in range(-1, 2):\n",
        "                        if i == 0 and j == 0:\n",
        "                            continue\n",
        "                        neighbor_row = row + i\n",
        "                        neighbor_col = col + j\n",
        "                        if neighbor_row < 0 or neighbor_row >= rows or neighbor_col < 0 or neighbor_col >= cols:\n",
        "                            neighbor_state = 0  # Assume that cells outside the grid are always 0\n",
        "                        else:\n",
        "                            neighbor_state = grid1[neighbor_row][neighbor_col]\n",
        "                        neighbor_states.append(neighbor_state)\n",
        "                \n",
        "                # Convert the neighborhood pattern to a binary string\n",
        "                pattern_str = ''.join(str(s) for s in neighbor_states)\n",
        "                \n",
        "                # Use the current rule to determine the next state of the center cell\n",
        "                rule_bin = bin(rule)[2:].zfill(8)\n",
        "                index = int(pattern_str, 2)\n",
        "                if index >= len(rule_bin):\n",
        "                    next_state = 0  # Assume that patterns not in the rule lead to a state of 0\n",
        "                else:\n",
        "                    next_state = int(rule_bin[index])\n",
        "                \n",
        "                # Update the score for the current rule based on the difference between the predicted next state and the actual next state\n",
        "                score_current += (next_state - grid3[row][col])**2\n",
        "        \n",
        "        # Update the best rule if the current rule has a lower score\n",
        "        if score_current < score_best:\n",
        "            score_best = score_current\n",
        "            rule_best = rule\n",
        "    \n",
        "    # Return the best rule\n",
        "    return rule_best"
      ],
      "metadata": {
        "id": "7j3I8sb4epsa"
      },
      "execution_count": 235,
      "outputs": []
    },
    {
      "cell_type": "code",
      "source": [
        "rule = find_rule(grid1, grid2, grid3)"
      ],
      "metadata": {
        "id": "xfAsMFjdg1xN"
      },
      "execution_count": 236,
      "outputs": []
    },
    {
      "cell_type": "code",
      "source": [
        "def next_grid(grid, rule):\n",
        "    \"\"\"\n",
        "    This function takes in a 2D grid and a decimal rule, and returns the next grid in the sequence according to the rule.\n",
        "    \"\"\"\n",
        "    \n",
        "    # Find the dimensions of the grid\n",
        "    n_rows = grid.shape[0]\n",
        "    n_cols = grid.shape[1]\n",
        "    \n",
        "    # Initialize the next grid\n",
        "    next_grid = np.zeros((n_rows, n_cols), dtype=int)\n",
        "    \n",
        "    # Iterate over each cell in the grid\n",
        "    for i in range(n_rows):\n",
        "        for j in range(n_cols):\n",
        "            \n",
        "            # Get the states of the neighbors in the neighborhood\n",
        "            neighbors = grid[max(0, i-1):min(n_rows, i+2), max(0, j-1):min(n_cols, j+2)].flatten()\n",
        "            \n",
        "            # Convert the neighborhood pattern to a binary string\n",
        "            pattern_str = ''.join(str(s) for s in neighbors)\n",
        "            \n",
        "            # Use the rule to determine the next state of the center cell\n",
        "            rule_bin = bin(rule)[2:].zfill(8)\n",
        "            index = int(pattern_str, 2)\n",
        "            if index >= len(rule_bin):\n",
        "                next_state = 0  # Assume that patterns not in the rule lead to a state of 0\n",
        "            else:\n",
        "                next_state = int(rule_bin[index])\n",
        "            \n",
        "            # Update the next grid with the new state of the center cell\n",
        "            next_grid[i, j] = next_state\n",
        "    \n",
        "    # Return the next grid\n",
        "    return next_grid\n"
      ],
      "metadata": {
        "id": "SlYd4chhg2Bb"
      },
      "execution_count": 237,
      "outputs": []
    },
    {
      "cell_type": "code",
      "source": [
        "grid4 = next_grid(grid2, 43)\n",
        "plot_grid(grid4)"
      ],
      "metadata": {
        "colab": {
          "base_uri": "https://localhost:8080/",
          "height": 269
        },
        "id": "UUDhfw6UhGOs",
        "outputId": "b16135df-380c-4391-c643-774ffca83c56"
      },
      "execution_count": 247,
      "outputs": [
        {
          "output_type": "display_data",
          "data": {
            "text/plain": [
              "<Figure size 432x288 with 1 Axes>"
            ],
            "image/png": "[encoded data removed]"
          },
          "metadata": {
            "needs_background": "light"
          }
        }
      ]
    },
    {
      "cell_type": "code",
      "source": [
        "def estimate_rule(grids):\n",
        "    \"\"\"\n",
        "    This function takes in an array of 2D grids and estimates the corresponding cellular automaton rule.\n",
        "    \"\"\"\n",
        "    \n",
        "    # Find the dimensions of the grids\n",
        "    rows = len(grids[0])\n",
        "    cols = len(grids[0][0])\n",
        "    \n",
        "    # Initialize the score for the best rule\n",
        "    score_best = np.inf\n",
        "    \n",
        "    # Iterate over each possible rule\n",
        "    for rule in range(256):\n",
        "        \n",
        "        # Initialize the score for the current rule\n",
        "        score_current = 0\n",
        "        \n",
        "        # Iterate over each pair of sequential grids\n",
        "        for i in range(len(grids)-2):\n",
        "            grid1 = grids[i]\n",
        "            grid2 = grids[i+1]\n",
        "            grid3 = grids[i+2]\n",
        "            \n",
        "            # Update the score for the current rule based on the difference between the predicted next grid and the actual next grid\n",
        "            next_grid_pred = next_grid(grid2, rule)\n",
        "            score_current += np.sum((next_grid_pred - grid3)**2)\n",
        "        \n",
        "        # Update the best rule if the current rule has a lower score\n",
        "        if score_current < score_best:\n",
        "            score_best = score_current\n",
        "            rule_best = rule\n",
        "    \n",
        "    # Return the best rule\n",
        "    return rule_best"
      ],
      "metadata": {
        "id": "HTCXgwCJhKJl"
      },
      "execution_count": 241,
      "outputs": []
    },
    {
      "cell_type": "code",
      "source": [
        "estimate_rule(np.array([grid1,grid2,grid3]))"
      ],
      "metadata": {
        "colab": {
          "base_uri": "https://localhost:8080/"
        },
        "id": "ACEk515qiQN8",
        "outputId": "25e4ec1c-a4fb-44fe-82b9-2a9d02f6085b"
      },
      "execution_count": 245,
      "outputs": [
        {
          "output_type": "execute_result",
          "data": {
            "text/plain": [
              "4"
            ]
          },
          "metadata": {},
          "execution_count": 245
        }
      ]
    },
    {
      "cell_type": "code",
      "source": [],
      "metadata": {
        "id": "FW9yga3biVOC"
      },
      "execution_count": null,
      "outputs": []
    }
  ]
}